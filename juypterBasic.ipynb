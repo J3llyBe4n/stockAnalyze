{
 "cells": [
  {
   "cell_type": "markdown",
   "id": "0c6425a2",
   "metadata": {},
   "source": [
    "# how to use juypter tutorial\n",
    "* shift + enter 셀 실행 다음셀 이동\n",
    "* ESC + a 위에 셀 추가 \n",
    "* ESC + b 아래 셀 추가\n",
    "* dd 셀 삭제\n",
    "* ESC + m 문서 셀로 변경 \n",
    "* ESC + y 마크다운 가능 해짐"
   ]
  },
  {
   "cell_type": "code",
   "execution_count": 2,
   "id": "96cf409f",
   "metadata": {},
   "outputs": [
    {
     "name": "stdout",
     "output_type": "stream",
     "text": [
      "test\n"
     ]
    }
   ],
   "source": [
    "print(\"test\")"
   ]
  },
  {
   "cell_type": "code",
   "execution_count": 3,
   "id": "0e92e43f",
   "metadata": {},
   "outputs": [
    {
     "name": "stdout",
     "output_type": "stream",
     "text": [
      "\u001b[31mERROR: Could not find a version that satisfies the requirement finanace-dataredear (from versions: none)\u001b[0m\u001b[31m\r\n",
      "\u001b[0m\u001b[31mERROR: No matching distribution found for finanace-dataredear\u001b[0m\u001b[31m\r\n",
      "\u001b[0m"
     ]
    }
   ],
   "source": [
    "!pip install -U finanace-dataredear"
   ]
  },
  {
   "cell_type": "code",
   "execution_count": null,
   "id": "85798a6b",
   "metadata": {},
   "outputs": [],
   "source": []
  }
 ],
 "metadata": {
  "kernelspec": {
   "display_name": "Python 3 (ipykernel)",
   "language": "python",
   "name": "python3"
  },
  "language_info": {
   "codemirror_mode": {
    "name": "ipython",
    "version": 3
   },
   "file_extension": ".py",
   "mimetype": "text/x-python",
   "name": "python",
   "nbconvert_exporter": "python",
   "pygments_lexer": "ipython3",
   "version": "3.8.16"
  }
 },
 "nbformat": 4,
 "nbformat_minor": 5
}
